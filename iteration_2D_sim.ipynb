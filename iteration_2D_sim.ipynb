{
 "cells": [
  {
   "cell_type": "markdown",
   "metadata": {},
   "source": [
    "# Visualization of motion mapping  by iteration method in 2D toy example\n"
   ]
  },
  {
   "cell_type": "code",
   "execution_count": null,
   "metadata": {
    "pycharm": {
     "is_executing": false
    }
   },
   "outputs": [],
   "source": [
    "import numpy as np\n",
    "import time\n",
    "import matplotlib.pyplot as plt\n",
    "\n",
    "# https://docs.scipy.org/doc/scipy/reference/optimize.html\n",
    "from scipy.optimize import minimize\n",
    "\n",
    "# load iteration mapping code\n",
    "import iteration_mapping as iter\n",
    "import data_generation as dg\n",
    "\n",
    "# https://github.com/moble/quaternion  install quaternion and numba\n",
    "import quaternion # [w,x,y,z] order\n"
   ]
  },
  {
   "cell_type": "code",
   "execution_count": null,
   "metadata": {
    "pycharm": {
     "is_executing": false
    }
   },
   "outputs": [],
   "source": [
    "# create grid_lines for visualization\n",
    "downsampling = 10\n",
    "nbGrid = 20 * downsampling + 1\n",
    "def generate_grid(xk, xk2, offset = 1.5):\n",
    "    grid_lines=[]\n",
    "    x_grid_ = np.linspace(np.min(xk[:,0]) - offset, np.max(xk[:,0]) + offset, nbGrid)\n",
    "    y_grid_ = np.linspace(np.min(xk[:,1]) - offset, np.max(xk[:,1]) + offset, nbGrid)\n",
    "    x_grid, y_grid = np.meshgrid(x_grid_, y_grid_)\n",
    "    for ii in range(nbGrid):\n",
    "        for jj in range(nbGrid):               \n",
    "            x_grid_point = np.array([x_grid[ii,jj],y_grid[ii,jj] ])\n",
    "            grid_lines.append(x_grid_point)\n",
    "\n",
    "    grid_lines = np.asarray(grid_lines)\n",
    "    return grid_lines\n"
   ]
  },
  {
   "source": [
    "## Plot all objects on two sides"
   ],
   "cell_type": "markdown",
   "metadata": {}
  },
  {
   "cell_type": "code",
   "execution_count": null,
   "metadata": {
    "scrolled": true
   },
   "outputs": [],
   "source": [
    "# set sampling points for each object\n",
    "sp = 100 # 1,10,100 \n",
    "obj = dg.Shape\n",
    "\n",
    "# generate test objects\n",
    "p0 = obj(sample_points=sp, type=0,translation=np.array([0.7,0.9]),scale=0.1)\n",
    "p1 = obj(sample_points=sp, type=1,translation=np.array([0,1]),scale=0.15)\n",
    "p2 = obj(sample_points=sp, type=2,translation=np.array([1,0]),scale=0.15)\n",
    "p3 = obj(sample_points=sp, type=3,translation=np.array([1.2,0.5]),scale=0.15)\n",
    "p4 = obj(sample_points=sp, type=4,translation=np.array([0,0]),scale=0.5)\n",
    "\n",
    "\n",
    "x_data = np.concatenate([p0.xy,p1.xy,p2.xy,p3.xy,p4.xy],axis=0)\n",
    "x_key = [p0.key_points,p1.key_points,p2.key_points,p3.key_points,p4.key_points]\n",
    "x_data = np.concatenate([x_data, np.repeat([[1.,0,0,0]],5*sp,axis=0)],axis=1)\n",
    "fig = plt.figure(figsize=(10,10./2))\n",
    "ax = fig.add_subplot(111)\n",
    "ax.set_aspect(\"equal\")\n",
    "ax.scatter(x_data[:,0], x_data[:,1],s=1)\n",
    "xk = np.concatenate([p0.xy[0,None,:],p1.xy[0,None,:],p2.xy[0,None,:],p3.xy[0,None,:],p4.xy[0,None,:]],axis=0)\n",
    "ax.set_title('Objects on the local side')\n",
    "# print xk\n",
    "fig = plt.figure(figsize=(10,10./2))\n",
    "\n",
    "ax = fig.add_subplot( 111,sharey=ax)\n",
    "# sharey=ax\n",
    "ax.set_aspect(\"equal\")\n",
    "\n",
    "# set the rotation angle on objects\n",
    "angle = [0,-30,60,30,30.]\n",
    "p0 = obj(sample_points=sp, type=0,translation=np.array([0.7,0.7])+np.array([0.8,0.5]),theta=angle[0],scale=0.1)\n",
    "p1 = obj(sample_points=sp, type=1,translation=np.array([0,1])+np.array([0.4,0.2]),theta=angle[1],scale=0.15)\n",
    "p2 = obj(sample_points=sp, type=2,translation=np.array([1,0])+np.array([0.7,0.2]),theta=angle[2],scale=0.15)\n",
    "p3 = obj(sample_points=sp, type=3,translation=np.array([1.5,0.8])+np.array([0.5,0.3]),theta=angle[3],scale=0.15)\n",
    "p4 = obj(sample_points=sp, type=4,translation=np.array([0,0])+np.array([0,0.2]),theta=angle[4],scale=0.5)\n",
    "xk2 = np.concatenate([p0.xy[0,None,:],p1.xy[0,None,:],p2.xy[0,None,:],p3.xy[0,None,:],p4.xy[0,None,:]],axis=0)\n",
    "y_key = [p0.key_points,p1.key_points,p2.key_points,p3.key_points,p4.key_points]\n",
    "\n",
    "p = [p0.xy,p1.xy,p2.xy,p3.xy,p4.xy]\n",
    "\n",
    "q_all =np.zeros([5,4])\n",
    "for i in range(5):\n",
    "    q = quaternion.from_euler_angles([-angle[i]*np.pi/180.,0,0])\n",
    "    q_tmp = quaternion.as_float_array(q)\n",
    "    q_all[i,:] = q_tmp\n",
    "\n",
    "    p[i] = np.concatenate([p[i],np.repeat(q_tmp.reshape(1,-1), sp,axis=0)],axis=1)\n",
    "xk2 = np.concatenate([xk2, q_all],axis=1)\n",
    "y_data = np.concatenate([p[0],p[1],p[2],p[3],p[4]],axis=0)\n",
    "ax.scatter(y_data[:,0], y_data[:,1],s=1)\n",
    "ax.set_title('Objects on the remote side')"
   ]
  },
  {
   "cell_type": "markdown",
   "metadata": {},
   "source": [
    "## iteration algorithm with Gaussian RBF"
   ]
  },
  {
   "cell_type": "code",
   "execution_count": null,
   "metadata": {},
   "outputs": [],
   "source": [
    "para = np.array([100, 0.6, 0.95])  # iteration algorithm parameter: [K, \\mu, \\beta]\n",
    "\n",
    "## Data to be mapped:\n",
    "# x_data: n x 6, [x, y, qw, qx, qy, qz] position and orientation of objects on the local side \n",
    "# y_data: n x 6, [x, y, qw, qx, qy, qz] position and orientation of objects on the remote side \n",
    "\n",
    "M = iter.iteration(para, x_data, y_data) # Training"
   ]
  },
  {
   "source": [
    "## Visualization in 2D "
   ],
   "cell_type": "markdown",
   "metadata": {}
  },
  {
   "cell_type": "code",
   "execution_count": null,
   "metadata": {
    "tags": []
   },
   "outputs": [],
   "source": [
    "grid_lines = generate_grid(xk, xk2)\n",
    "print grid_lines.shape[0]\n",
    "\n",
    "nbGrid =  int(np.sqrt(grid_lines.shape[0]))\n",
    "tmp0 = grid_lines.reshape(nbGrid,nbGrid,2)\n",
    "print tmp0.shape\n",
    "x_grid = tmp0[:,:,0];y_grid = tmp0[:,:,1]"
   ]
  },
  {
   "cell_type": "code",
   "execution_count": null,
   "metadata": {
    "pycharm": {
     "is_executing": false
    }
   },
   "outputs": [],
   "source": [
    "def plot_2D_pos_ori(ax, data,color='r',alpha=1,length=0.01,head_width=0.007,lw=1,down_sampling=1,zorder =0, x_axis=True):\n",
    "    # data: [n, 6]\n",
    "    arrow_len = np.array([length, 0, 0])\n",
    "    if data.ndim==1:\n",
    "        data = data.reshape(-1,1)        \n",
    "    for i in range(data.shape[0]):        \n",
    "        x, y, q = data[i,0], data[i,1], quaternion.from_float_array(data[i,2:])\n",
    "        if x_axis:\n",
    "            new_arrow = quaternion.rotate_vectors(q, arrow_len) \n",
    "        else:\n",
    "            new_arrow = quaternion.rotate_vectors(q * quaternion.from_euler_angles(np.pi/2,0,0), arrow_len) \n",
    "\n",
    "        tmp =  length* np.array([np.cos(data[i,2]), np.sin(data[i,2])])\n",
    "#         print tmp\n",
    "        ax.arrow(x, y, new_arrow[0],new_arrow[1],width=0.004,head_width=head_width,\n",
    "                 color=color,alpha=alpha,lw=lw,zorder=zorder,length_includes_head=False)\n",
    "    \n"
   ]
  },
  {
   "cell_type": "code",
   "execution_count": null,
   "metadata": {},
   "outputs": [],
   "source": [
    "plot_list = []\n",
    "for i in range(0,nbGrid,downsampling):\n",
    "    plot_list += range(i*nbGrid, (i+1)*nbGrid,downsampling )"
   ]
  },
  {
   "cell_type": "code",
   "execution_count": null,
   "metadata": {},
   "outputs": [],
   "source": [
    "%matplotlib inline\n",
    "red_color = np.array([228,73,26,255])/255.\n",
    "green_color = np.array([100,165,74,255])/255.\n",
    "xk_color = np.array([[38, 70, 83,255],\n",
    "                    [42, 157, 143,255],\n",
    "                    [242, 220, 166,255],\n",
    "                    [243, 155, 83,255],\n",
    "                    [197, 61, 27,255]])/255."
   ]
  },
  {
   "cell_type": "code",
   "execution_count": null,
   "metadata": {
    "pycharm": {
     "is_executing": false
    }
   },
   "outputs": [],
   "source": [
    "grid_lines = generate_grid(xk,xk2)\n",
    "\n",
    "# add identity quaternion on grid poins of the local side\n",
    "grid_lines = np.concatenate([grid_lines, np.repeat(np.array([[1.,0,0,0]]),nbGrid**2,axis=0 )   ],axis=1) \n",
    "\n",
    "# map grid points to the remote side\n",
    "grid_lines2 = M.forward(grid_lines) \n",
    "\n",
    "# plot \n",
    "fig_width = 85/25.4 *8/9 # mm to inch\n",
    "fig, ax = plt.subplots(ncols=2, figsize=(fig_width, fig_width/2 *4/5))\n",
    "fig.subplots_adjust(left=0, bottom=0, right=1, top=1, wspace=0.33, hspace=0)\n",
    "plt.rcParams[\"font.family\"] = \"Times New Roman\"\n",
    "plt.rcParams[\"font.size\"] = \"8\"\n",
    "# plt.rcParams[\"text.usetex\"] = True\n",
    "plt.rcParams['pdf.fonttype'] = 42\n",
    "plt.rcParams['ps.fonttype'] = 42\n",
    "\n",
    "grids1 = grid_lines[:,:].reshape(nbGrid,nbGrid,6)\n",
    "grids2 = grid_lines2[:,:].reshape(nbGrid,nbGrid,6)\n",
    "\n",
    "set_alpha = 0.5\n",
    "for i in range(0,nbGrid,downsampling):\n",
    "    ax[0].plot(grids1[i,:,0], grids1[i,:,1], c = 'darkgray', alpha=set_alpha,linewidth=0.5)\n",
    "    ax[0].plot(grids1[:,i,0], grids1[:,i,1], c = 'darkgray', alpha=set_alpha,linewidth=0.5)\n",
    "    ax[1].plot(grids2[i,:,0], grids2[i,:,1], c = 'darkgray', alpha=set_alpha,linewidth=0.5)\n",
    "    ax[1].plot(grids2[:,i,0], grids2[:,i,1], c = 'darkgray', alpha=set_alpha,linewidth=0.5)\n",
    "\n",
    "ax[0].axis('equal')\n",
    "ax[1].axis('equal')\n",
    "\n",
    "i=0\n",
    "for data in x_key:\n",
    "    ax[0].plot(data[:,0],data[:,1],c=xk_color[i,:],linewidth=1,zorder = 100)\n",
    "    i = i+1\n",
    "i=0\n",
    "for data in y_key:\n",
    "    ax[1].plot(data[:,0],data[:,1],c=xk_color[i,:],linewidth=1,zorder = 100)\n",
    "    i = i+1"
   ]
  },
  {
   "cell_type": "code",
   "execution_count": null,
   "metadata": {
    "pycharm": {
     "is_executing": false
    }
   },
   "outputs": [],
   "source": [
    "%matplotlib inline\n",
    "# fig, ax = plt.subplots(ncols=2, figsize=(fig_width, fig_width/2 *4/5))\n",
    "# fig.subplots_adjust(left=0, bottom=0, right=1, top=1,\n",
    "#                 wspace=0.33, hspace=0)\n",
    "fig_width = 90/25.4 /2 # mm to inch\n",
    "\n",
    "rate = 1.\n",
    "ratio = 1\n",
    "fig0 = plt.figure(figsize=(fig_width*rate, fig_width *rate * ratio))\n",
    "ax0 = fig0.add_subplot(111)\n",
    "fig1 = plt.figure(figsize=(fig_width, fig_width ))\n",
    "\n",
    "# ax1 = fig1.add_subplot(111, sharey=ax0)\n",
    "ax1 = fig1.add_subplot(111)\n",
    "\n",
    "ax = [ax0,ax1]\n",
    "set_alpha = 1\n",
    "grid_color = 'lightgray'\n",
    "for i in range(0, nbGrid, downsampling):\n",
    "    ax[0].plot(grids1[i,:,0], grids1[i,:,1], c = grid_color, alpha=set_alpha,linewidth=0.5,zorder = 0)\n",
    "    ax[0].plot(grids1[:,i,0], grids1[:,i,1], c = grid_color, alpha=set_alpha,linewidth=0.5,zorder = 0)\n",
    "    ax[1].plot(grids2[i,:,0], grids2[i,:,1], c = grid_color, alpha=set_alpha,linewidth=0.5,zorder = 0)\n",
    "    ax[1].plot(grids2[:,i,0], grids2[:,i,1], c = grid_color, alpha=set_alpha,linewidth=0.5,zorder = 0)\n",
    "# Set the zorder for the artist. Artists with lower zorder values are drawn first.\n",
    "\n",
    "plot_2D_pos_ori(ax[1],grid_lines2[plot_list,:],color='gray',alpha=set_alpha,lw=0.4,\n",
    "                head_width=0.02,length=0.09,zorder = 5)\n",
    "plot_2D_pos_ori(ax[0],grid_lines[plot_list,:],color='gray',alpha=set_alpha,lw=0.4,\n",
    "                head_width=0.02,length=0.09,zorder = 5)\n",
    " \n",
    "x_lim = np.array([-0.5,2.5])\n",
    "y_lim = np.array([-0.5,1.75])+0.05  \n",
    "ax[0].set_xlim(x_lim)\n",
    "ax[0].set_ylim(y_lim)\n",
    "\n",
    "# ax[0].set_aspect(1./ax[0].get_data_ratio())\n",
    "ax[0].set_aspect(1.)\n",
    "ax[1].set_aspect(1.)\n",
    "ax[1].set_xlim(x_lim)\n",
    "ax[1].set_ylim(y_lim)\n",
    "\n",
    "ax[0].set_xticks([],())\n",
    "ax[1].set_xticks([],())\n",
    "# ax[0].set_yticks([],())\n",
    "# ax[1].set_yticks([],())\n",
    "i=0\n",
    "for data in x_key:\n",
    "    ax[0].plot(data[:,0],data[:,1],c=xk_color[i,:],linewidth=1,zorder = 100)\n",
    "    i = i+1\n",
    "i=0\n",
    "for data in y_key:\n",
    "    ax[1].plot(data[:,0],data[:,1],c=xk_color[i,:],linewidth=1,zorder = 100)\n",
    "    i = i+1\n",
    "# ax[0].set_aspect(1, adjustable='box')\n",
    "# ax[1].set_aspect(1, adjustable='box')\n",
    "\n",
    "\n",
    "# fig0.savefig('figures/2D_local_sp100.pdf',format='pdf',bbox_inches='tight',  pad_inches=0.0)\n",
    "# fig1.savefig('figures/2D_remote_sp100.pdf',format='pdf',bbox_inches='tight',  pad_inches=0.0)\n"
   ]
  },
  {
   "cell_type": "code",
   "execution_count": null,
   "metadata": {
    "pycharm": {
     "is_executing": false
    }
   },
   "outputs": [],
   "source": []
  }
 ],
 "metadata": {
  "file_extension": ".py",
  "kernelspec": {
   "display_name": "Python 2.7.18 64-bit ('py27': conda)",
   "language": "python",
   "name": "python271864bitpy27conda26beda4d3f90482094fea5792fd19e1a"
  },
  "language_info": {
   "codemirror_mode": {
    "name": "ipython",
    "version": 2
   },
   "file_extension": ".py",
   "mimetype": "text/x-python",
   "name": "python",
   "nbconvert_exporter": "python",
   "pygments_lexer": "ipython2",
   "version": "2.7.18"
  },
  "mimetype": "text/x-python",
  "name": "python",
  "npconvert_exporter": "python",
  "pycharm": {
   "stem_cell": {
    "cell_type": "raw",
    "metadata": {
     "collapsed": false
    },
    "source": []
   }
  },
  "pygments_lexer": "ipython2",
  "version": 2
 },
 "nbformat": 4,
 "nbformat_minor": 2
}